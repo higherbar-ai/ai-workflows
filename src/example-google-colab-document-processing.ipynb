{
 "cells": [
  {
   "cell_type": "markdown",
   "metadata": {
    "id": "view-in-github",
    "colab_type": "text"
   },
   "source": "<a href=\"https://colab.research.google.com/github/higherbar-ai/ai-workflows/blob/main/example-google-colab-document-processing.ipynb\" target=\"_parent\"><img alt=\"Open In Colab\" src=\"https://colab.research.google.com/assets/colab-badge.svg\"/></a>",
   "id": "5a54743a916ee395"
  },
  {
   "metadata": {},
   "cell_type": "markdown",
   "source": [
    "# About this notebook\n",
    "\n",
    "This notebook provides a simple example of how to use the `ai-workflows` package in Google Colab.\n",
    "\n",
    "## Configuration\n",
    "\n",
    "This notebook uses secrets, which you can configure by clicking on the key icon in Google Colab's left sidebar.\n",
    "\n",
    "This notebook requires access to OpenAI models. To use OpenAI directly, configure the `openai_api_key` secret to contain your API key. (Get a key from [the OpenAI API key page](https://platform.openai.com/api-keys), and be sure to fund your platform account with at least $5 to allow GPT-4o model access.)\n",
    "\n",
    "Alternatively, you can use OpenAI via Microsoft Azure by configuring the following secrets:\n",
    "\n",
    "1. `azure_api_key`\n",
    "2. `azure_api_base`\n",
    "3. `azure_api_engine`\n",
    "4. `azure_api_version`\n",
    "\n",
    "Finally, you can override the default model of `gpt-4o` by setting the `openai_model` secret to your preferred model, and you can optionally add [LangSmith tracing](https://langchain.com/langsmith) by setting the `langsmith_api_key` secret.\n",
    "\n",
    "## Setting up the runtime environment\n",
    "\n",
    "The next code block will install everything necessary to set up the runtime environment for this notebook."
   ],
   "id": "3131c033cc6ec753"
  },
  {
   "cell_type": "code",
   "execution_count": null,
   "id": "initial_id",
   "metadata": {
    "collapsed": true
   },
   "outputs": [],
   "source": [
    "!pip install google-colab\n",
    "!pip install py-ai-workflows\n",
    "\n",
    "# download NLTK data\n",
    "import nltk\n",
    "nltk.download('punkt', force=True)\n",
    "\n",
    "# install LibreOffice for document processing\n",
    "!apt-get install -y libreoffice"
   ]
  },
  {
   "metadata": {},
   "cell_type": "markdown",
   "source": [
    "## Initializing\n",
    "\n",
    "The next code block initializes the notebook by loading secrets and initializing the LLM interface."
   ],
   "id": "343a69892d52b765"
  },
  {
   "metadata": {},
   "cell_type": "code",
   "outputs": [],
   "execution_count": null,
   "source": [
    "from google.colab import userdata\n",
    "from ai_workflows.llm_utilities import LLMInterface\n",
    "from ai_workflows.document_utilities import DocumentInterface\n",
    "\n",
    "# utility function: get secret from Google Colab, with support for a default\n",
    "def get_secret_with_default(secretName, defaultValue=None):\n",
    "    # noinspection PyBroadException\n",
    "    try:\n",
    "        return userdata.get(secretName)\n",
    "    except:\n",
    "        return defaultValue\n",
    "\n",
    "\n",
    "# read all supported secrets\n",
    "openai_api_key = get_secret_with_default('openai_api_key')\n",
    "openai_model = get_secret_with_default('openai_model', 'gpt-4o')\n",
    "azure_api_key = get_secret_with_default('azure_api_key')\n",
    "azure_api_base = get_secret_with_default('azure_api_base')\n",
    "azure_api_engine = get_secret_with_default('azure_api_engine')\n",
    "azure_api_version = get_secret_with_default('azure_api_version')\n",
    "langsmith_api_key = get_secret_with_default('langsmith_api_key')\n",
    "\n",
    "# complain if we don't have the bare minimum to run\n",
    "if not openai_api_key and not (azure_api_key\n",
    "                               and azure_api_base\n",
    "                               and azure_api_engine\n",
    "                               and azure_api_version):\n",
    "    raise Exception('We need either an openai_api_key secret set in the secrets — or set azure_api_key, azure_api_base, azure_api_engine, and azure_api_version to use Azure instead. Also be sure to enable Notebook Access for the secret(s).')\n",
    "\n",
    "# initialize LLM interface\n",
    "llm = LLMInterface(openai_api_key=openai_api_key, openai_model=openai_model, azure_api_key=azure_api_key, azure_api_base=azure_api_base, azure_api_engine=azure_api_engine, azure_api_version=azure_api_version, temperature = 0.0, total_response_timeout_seconds=600, number_of_retries=2, seconds_between_retries=5, langsmith_api_key=langsmith_api_key)\n",
    "\n",
    "# initialize our document processor\n",
    "doc_interface = DocumentInterface(llm_interface=llm)\n",
    "\n",
    "# set Google Colab content directory\n",
    "content_dir = \"/content\"\n",
    "\n",
    "# report success\n",
    "print(\"Initialization successful.\")"
   ],
   "id": "80a6929f49e358bc"
  },
  {
   "metadata": {},
   "cell_type": "markdown",
   "source": [
    "## Document upload\n",
    "\n",
    "This next code block prompts you to upload one or more files to convert to markdown, then it converts them and outputs them in the same Colab content directory. (Find, view, and download all files by clicking on the folder icon in the left sidebar.)"
   ],
   "id": "94ead9d4f72c8368"
  },
  {
   "metadata": {},
   "cell_type": "code",
   "outputs": [],
   "execution_count": null,
   "source": [
    "from google.colab import files\n",
    "import os\n",
    "\n",
    "# prompt for one or more files\n",
    "filename = None\n",
    "print('Upload one or more files to convert to Markdown:')\n",
    "print()\n",
    "uploaded = files.upload()\n",
    "\n",
    "# if we got any files, process them one by one\n",
    "if len(uploaded.items()) > 0:\n",
    "    # loop through all uploaded files\n",
    "    for filename in uploaded.keys():\n",
    "        print(f'Processing {filename}...')\n",
    "        file_path = os.path.join(content_dir, filename)\n",
    "        \n",
    "        # convert to markdown\n",
    "        markdown = doc_interface.convert_to_markdown(file_path)\n",
    "\n",
    "        # write the markdown to the output directory\n",
    "        output_path = os.path.join(content_dir, os.path.splitext(os.path.basename(filename))[0] + '.md')\n",
    "        with open(output_path, 'w') as f:\n",
    "            f.write(markdown)\n",
    "\n",
    "        print(f\"Conversion complete. Markdown saved to {output_path}\")"
   ],
   "id": "bdae454b5dc58584"
  }
 ],
 "metadata": {
  "kernelspec": {
   "display_name": "Python 3",
   "language": "python",
   "name": "python3"
  },
  "language_info": {
   "codemirror_mode": {
    "name": "ipython",
    "version": 2
   },
   "file_extension": ".py",
   "mimetype": "text/x-python",
   "name": "python",
   "nbconvert_exporter": "python",
   "pygments_lexer": "ipython2",
   "version": "2.7.6"
  }
 },
 "nbformat": 4,
 "nbformat_minor": 5
}
