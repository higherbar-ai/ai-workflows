{
 "cells": [
  {
   "metadata": {},
   "cell_type": "markdown",
   "source": [
    "# About this surveyeval-lite notebook (local version)\n",
    "\n",
    "This notebook provides a simple example of an automated AI workflow. It's a much-simplified version of [the surveyeval toolkit available here in GitHub](https://github.com/higherbar-ai/survey-eval). This version, self-contained in this single notebook, uses [the ai-workflows package](https://github.com/higherbar-ai/ai-workflows), along with an OpenAI LLM, to:\n",
    "\n",
    "1. Parse a survey file into a series of questions\n",
    "\n",
    "2. Loop through each question to:\n",
    "\n",
    "    1. Evaluate the question for potential phrasing issues\n",
    "    2. Evaluate the question for potential bias issues\n",
    "\n",
    "3. Assemble and output all findings and recommendations\n",
    "\n",
    "See [the ai-workflows GitHub repo](https://github.com/higherbar-ai/ai-workflows) for more details.\n",
    "\n",
    "## Configuration\n",
    "\n",
    "Before attempting to run this notebook, be sure to set up your Python environment using the code in `initial-setup.ipynb` and configure the `.ini` file as discussed below.\n",
    "\n",
    "The notebook begins by loading credentials and configuration from an `.ini` file stored in `~/.hbai/ai-workflows.ini`. The `~` in the path refers to the current user's home directory, and the `.ini` file contents should follow this format (with keys, models, and paths as appropriate):\n",
    "\n",
    "    [openai]\n",
    "    openai-api-key=keyhere-with-sk-on-front\n",
    "    openai-model=gpt-4o\n",
    "    azure-api-key=keyhere-or-blank\n",
    "    azure-api-base=azure-base-url-here\n",
    "    azure-api-engine=gpt-4o\n",
    "    azure-api-version=2024-02-01\n",
    "\n",
    "    [langsmith]\n",
    "    langsmith-api-key=leave-blank-unless-you're-using-langsmith\n",
    "\n",
    "    [files]\n",
    "    input-dir=~/Files/ai-workflows/inputs\n",
    "    output-dir=~/Files/ai-workflows/outputs\n",
    "\n",
    "You can leave the Azure settings blank if you're using OpenAI (or vice versa). You also don't need to supply a Langsmith API key unless you're using Langsmith. The `input-dir` and `output-dir` settings are used to specify the directories where input and output files are stored, respectively.\n",
    "\n",
    "## Initializing\n",
    "\n",
    "This next code block initializes the notebook, reading parameters from the configuration file and initializing an LLM interface."
   ],
   "id": "8b6627c85f89ca21"
  },
  {
   "cell_type": "code",
   "id": "initial_id",
   "metadata": {
    "collapsed": true,
    "ExecuteTime": {
     "end_time": "2024-10-31T12:21:48.084210Z",
     "start_time": "2024-10-31T12:21:46.369819Z"
    }
   },
   "source": [
    "# for convenience, auto-reload modules when they've changed\n",
    "%load_ext autoreload\n",
    "%autoreload 2\n",
    "\n",
    "import logging\n",
    "import configparser\n",
    "import os\n",
    "from ai_workflows.llm_utilities import LLMInterface \n",
    "from ai_workflows.document_utilities import DocumentInterface\n",
    "\n",
    "# set log level to WARNING\n",
    "logging.basicConfig(level=logging.INFO)\n",
    "\n",
    "# load credentials and other configuration from a local ini file\n",
    "inifile_location = os.path.expanduser(\"~/.hbai/ai-workflows.ini\")\n",
    "inifile = configparser.RawConfigParser()\n",
    "inifile.read(inifile_location)\n",
    "\n",
    "# load configuration\n",
    "openai_api_key = inifile.get(\"openai\", \"openai-api-key\")\n",
    "openai_model = inifile.get(\"openai\", \"openai-model\")\n",
    "azure_api_key = inifile.get(\"openai\", \"azure-api-key\")\n",
    "azure_api_base = inifile.get(\"openai\", \"azure-api-base\")\n",
    "azure_api_engine = inifile.get(\"openai\", \"azure-api-engine\")\n",
    "azure_api_version = inifile.get(\"openai\", \"azure-api-version\")\n",
    "input_dir = os.path.expanduser(inifile.get(\"files\", \"input-dir\"))\n",
    "output_dir = os.path.expanduser(inifile.get(\"files\", \"output-dir\"))\n",
    "langsmith_api_key = inifile.get(\"langsmith\", \"langsmith-api-key\")\n",
    "\n",
    "# initialize LangSmith API (if key specified)\n",
    "if langsmith_api_key:\n",
    "    os.environ[\"LANGCHAIN_TRACING_V2\"] = \"true\"\n",
    "    os.environ[\"LANGCHAIN_PROJECT\"] = \"local\"\n",
    "    os.environ[\"LANGCHAIN_ENDPOINT\"] = \"https://api.smith.langchain.com\"\n",
    "    os.environ[\"LANGCHAIN_API_KEY\"] = langsmith_api_key\n",
    "\n",
    "# initialize the LLM\n",
    "llm = LLMInterface(\n",
    "    openai_api_key=openai_api_key,\n",
    "    openai_model=openai_model,\n",
    "    azure_api_key=azure_api_key,\n",
    "    azure_api_base=azure_api_base,\n",
    "    azure_api_engine=azure_api_engine,\n",
    "    azure_api_version=azure_api_version,\n",
    "    langsmith_api_key=langsmith_api_key\n",
    ")\n",
    "\n",
    "# initialize our document processor\n",
    "doc_interface = DocumentInterface(llm_interface=llm)\n",
    "\n",
    "# report success\n",
    "print(\"Local configuration loaded, LLM and document processor initialized.\")"
   ],
   "outputs": [
    {
     "name": "stdout",
     "output_type": "stream",
     "text": [
      "Local configuration loaded, LLM and document processor initialized.\n"
     ]
    }
   ],
   "execution_count": 1
  },
  {
   "metadata": {},
   "cell_type": "markdown",
   "source": [
    "## Reading survey file and converting to Markdown\n",
    "\n",
    "When you run this next code cell, it will grab the first file in the input directory and use that for the survey evaluation, converting it to Markdown format and outputting the converted text so that you can verify that it looks okay.\n",
    "\n",
    "If you don't have a survey file handy, you can use the DHS example in the resources folder."
   ],
   "id": "2d8772f49725280f"
  },
  {
   "metadata": {
    "ExecuteTime": {
     "end_time": "2024-10-31T12:45:54.532914Z",
     "start_time": "2024-10-31T12:45:54.349020Z"
    }
   },
   "cell_type": "code",
   "source": [
    "from ai_workflows.document_utilities import DocumentInterface\n",
    "\n",
    "# find the first file in the input directory\n",
    "file_path = None\n",
    "for filename in os.listdir(input_dir):\n",
    "    if os.path.isfile(os.path.join(input_dir, filename)) and not filename.startswith('.'):\n",
    "        file_path = os.path.join(input_dir, filename)\n",
    "        break\n",
    "\n",
    "if not file_path:\n",
    "    raise ValueError(\"No files found in the input directory.\")\n",
    "\n",
    "# extract file text as Markdown\n",
    "doc_processor = DocumentInterface(llm_interface=llm)\n",
    "survey_text = doc_processor.convert_to_markdown(file_path)\n",
    "\n",
    "# report results\n",
    "print(f\"Processing this survey file: {file_path}\")\n",
    "print()\n",
    "print(f\"Extracted Markdown text: {survey_text}\")"
   ],
   "id": "a93b4c932412ba5",
   "outputs": [
    {
     "name": "stdout",
     "output_type": "stream",
     "text": [
      "Processing /Users/crobert/Files/ai-workflows/inputs/sample_dhs_questions.txt...\n",
      "[========================================]\n",
      "Found the following file to use as the survey file: /Users/crobert/Files/ai-workflows/inputs/sample_dhs_questions.txt\n",
      "\n",
      "Extracted Markdown text: ```\n",
      "pubs/pdf/DHSQ8/DHS8_Womans_QRE_EN_14Feb2023_DHSQ8.pdf on Oct. 5, 2024, following a\n",
      "link from https://dhsprogram.com/publications/publication-DHSQ8-DHS-Questionnairesand-Manuals.cfm.\n",
      "**Section 11: Other Health Issues**\n",
      "- **Now I would like to ask you some questions on smoking and tobacco use. Do you\n",
      "currently smoke cigarettes every day, some days, or not at all?**\n",
      " - (1) Every day\n",
      " - (2) Some days\n",
      " - (3) Not at all\n",
      "- **On average, how many cigarettes do you currently smoke each day?**\n",
      " - [Numeric response expected]\n",
      "- **Do you currently smoke or use any other type of tobacco every day, some days, or\n",
      "not at all?**\n",
      " - (1) Every day\n",
      " - (2) Some days\n",
      " - (3) Not at all\n",
      "- **What other type of tobacco do you currently smoke or use?**\n",
      " - (A) Kreteks\n",
      " - (B) Pipes full of tobacco\n",
      " - (C) Cigars, cheroots, or cigarillos\n",
      " - (D) Water pipe\n",
      " - (E) Snuff by mouth\n",
      " - (F) Snuff by nose\n",
      " - (G) Chewing tobacco\n",
      " - (H) Betel quid with tobacco\n",
      " - (X) Other\n",
      "- **Now I would like to ask you some questions about drinking alcohol. Have you ever\n",
      "consumed any alcohol, such as beer, wine, spirits, or [ADD OTHER LOCAL EXAMPLES]?**\n",
      " - (1) Yes\n",
      " - (2) No\n",
      "- **During the last one month, on how many days did you have an alcoholic drink?**\n",
      " - [Numeric response for number of days]\n",
      " - (00) Did not drink alcohol\n",
      "- **We count one drink of alcohol as one can or bottle of beer, one glass of wine, one\n",
      "shot of spirits, or one cup of [ADD OTHER LOCAL EXAMPLES]. In the last one month, on\n",
      "the days that you drank alcohol, how many drinks did you usually have per day?**\n",
      " - [Numeric response for number of drinks]\n",
      " - (95) Every day/almost every day\n",
      "- **Many different factors can prevent women from getting medical advice or treatment\n",
      "for themselves. When you are sick and want to get medical advice or treatment, is each\n",
      "of the following a big problem or not a big problem?**\n",
      " - (a) Getting permission to go to the doctor\n",
      "  - (1) Big problem\n",
      "  - (2) Not a big problem\n",
      " - (b) Getting money needed for advice or treatment\n",
      "  - (1) Big problem\n",
      "  - (2) Not a big problem\n",
      " - (c) The distance to the health facility\n",
      "  - (1) Big problem\n",
      "  - (2) Not a big problem\n",
      " - (d) Not wanting to go alone\n",
      "  - (1) Big problem\n",
      "  - (2) Not a big problem\n",
      "- **Are you covered by any health insurance?**\n",
      " - (1) Yes\n",
      " - (2) No\n",
      "- **What type of health insurance are you covered by?**\n",
      " - (A) Mutual health organization/community-based health insurance\n",
      " - (B) Health insurance through employer\n",
      " - (C) Social security\n",
      " - (D) Other privately purchased commercial health insurance\n",
      " - (X) Other\n",
      "- **How long does it take in minutes to go from your home to the nearest healthcare\n",
      "facility, which could be a hospital, a health clinic, a medical doctor, or a health\n",
      "post?**\n",
      " - [Numeric response in minutes]\n",
      "- **How do you travel to this healthcare facility from your home?**\n",
      " - [Instructions to record the mode of travel mentioned]\n",
      "- **Now I’m going to ask you about tests a healthcare worker can do to check for\n",
      "cervical cancer, which is cancer in the cervix. The cervix connects the womb to the\n",
      "vagina. To be checked for cervical cancer, a woman is asked to lie on her back with\n",
      "her legs apart. Then the healthcare worker will use a brush or swab to collect a\n",
      "sample from inside her. The sample is sent to a laboratory for testing. This test is\n",
      "called a Pap smear or HPV test. Another method is called a VIA or Visual Inspection\n",
      "with Acetic Acid. In this test, the healthcare worker puts vinegar on the cervix to\n",
      "see if there is a reaction.**\n",
      " **Has a doctor or other healthcare worker ever tested you for cervical cancer?**\n",
      " - (1) Yes\n",
      " - (2) No\n",
      "- **Has a doctor or other healthcare provider examined your breasts to check for\n",
      "breast cancer?**\n",
      " - (1) Yes\n",
      " - (2) No\n",
      "\n",
      "```\n",
      "\n",
      "-----\n",
      "\n",
      "\n"
     ]
    }
   ],
   "execution_count": 6
  },
  {
   "metadata": {},
   "cell_type": "markdown",
   "source": [
    "## Parsing the survey text\n",
    "\n",
    "The next code block will use the LLM to parse the survey text into a list of questions."
   ],
   "id": "d1e02188ca9ac38"
  },
  {
   "metadata": {
    "ExecuteTime": {
     "end_time": "2024-10-31T12:49:29.739289Z",
     "start_time": "2024-10-31T12:49:02.394128Z"
    }
   },
   "cell_type": "code",
   "source": [
    "# configure our parameters for JSON conversion\n",
    "\n",
    "json_context = \"The file contains a survey instrument or digital form.\"\n",
    "\n",
    "json_job = f\"\"\"Your job is to extract survey questions or form fields from the file's content, including question IDs, instructions, and multiple-choice options, and to return it all in a specific JSON format. More specifically:\n",
    "\n",
    "* **Your job is to extract verbatim text:** In the JSON you return, only ever include text content, directly quoted without modification, from the survey text you are supplied (i.e., never add or invent any text and never revise or rephrase any text).\n",
    "\n",
    "* **Only respond with valid JSON that precisely follows the format specified below:** Your response should only include valid JSON and nothing else; if you cannot find any questions to return, simply return an empty questions list.\n",
    "\n",
    "* **Treat translations as separate questions:** If you see one or more translated versions of a question, include them as separate questions in the JSON you return.\"\"\"\n",
    "\n",
    "json_output_spec = f\"\"\"Return JSON with the following fields (and only the following fields):\n",
    "\n",
    "* `questions` (list): The list of questions extracted, or an empty list if none found. Each question should be a dictionary with the following keys:\n",
    "\n",
    "  * `question_id` (string): The numeric or alphanumeric identifier or short variable name identifying the question (if any), usually located just before or at the beginning of the question. \"\" if none found.\n",
    "\n",
    "  * `question` (string): The exact text of the question or form field, including any introductory text that provides context or explanation. Often follows a unique question ID of some sort, like \"2.01.\" or \"gender:\". Should not include response options, which should be included in the 'options' field, or extra enumerator or interviewer instructions (including interview probes), which should be included in the 'instructions' field. Be careful: the same question might be asked in multiple languages, and each translation should be included as a separate question. Never translate between languages or otherwise alter the question text in any way.\n",
    "\n",
    "  * `instructions` (string): Instructions or other guidance about how to ask or answer the question (if any), including enumerator or interviewer instructions. If the question includes a list of specific response options, do NOT include those in the instructions. However, if there is guidance as to how to fill out an open-ended numeric or text response, or guidance about how to choose among the options, include that guidance here. \"\" if none found.\n",
    "\n",
    "  * `options` (string): The list of specific response options for multiple-choice questions in a single string, including both the label and the internal value (if specified) for each option. For example, a 'Male' label might be coupled with an internal value of '1', 'M', or even 'male'. Separate response options with a space, three pipe symbols ('|||'), and another space, and, if there is an internal value, add a space, three # symbols ('###'), and the internal value at the end of the label. For example: 'Male ### 1 ||| Female ### 2' (codes included) or 'Male ||| Female' (no codes); 'Yes ### yes ||| No ### no', 'Yes ### 1 ||| No ### 0', 'Yes ### y ||| No ### n', or 'YES ||| NO'. Do NOT include fill-in-the-blank content here, only multiple-choice options. \"\" if the question is open-ended (i.e., does not include specific multiple-choice options).\"\"\"\n",
    "\n",
    "# process the file\n",
    "all_responses = doc_processor.markdown_to_json(survey_text, json_context, json_job, json_output_spec)\n",
    "\n",
    "# combine all responses into a single list of questions\n",
    "questions = []\n",
    "for response in all_responses:\n",
    "    if 'questions' in response:\n",
    "        questions += response['questions']\n",
    "\n",
    "# output results\n",
    "if questions:\n",
    "    # output summary of results\n",
    "    num_questions = len(questions)\n",
    "    num_question_ids = len(set([q['question_id'] for q in questions]))\n",
    "    num_instructions = len(set([q['instructions'] for q in questions]))\n",
    "    num_options = len(set([q['options'] for q in questions]))\n",
    "    print(f\"Parsed {num_questions} questions ({num_question_ids} with IDs, {num_instructions} with instructions, and {num_options} with multiple-choice options)\")\n",
    "else:\n",
    "    print(f\"Failed to parse any questions from file.\")"
   ],
   "id": "889206ac9557d25f",
   "outputs": [
    {
     "name": "stderr",
     "output_type": "stream",
     "text": [
      "INFO:httpx:HTTP Request: POST https://hbai-openai-useast2.openai.azure.com//openai/deployments/gpt-4o/chat/completions?api-version=2024-02-01 \"HTTP/1.1 200 OK\"\n",
      "INFO:root:Extracted JSON from Markdown: {\n",
      "  \"questions\": [\n",
      "    {\n",
      "      \"question_id\": \"\",\n",
      "      \"question\": \"Now I would like to ask you some questions on smoking and tobacco use. Do you currently smoke cigarettes every day, some days, or not at all?\",\n",
      "      \"instructions\": \"\",\n",
      "      \"options\": \"Every day ### 1 ||| Some days ### 2 ||| Not at all ### 3\"\n",
      "    },\n",
      "    {\n",
      "      \"question_id\": \"\",\n",
      "      \"question\": \"On average, how many cigarettes do you currently smoke each day?\",\n",
      "      \"instructions\": \"[Numeric response expected]\",\n",
      "      \"options\": \"\"\n",
      "    },\n",
      "    {\n",
      "      \"question_id\": \"\",\n",
      "      \"question\": \"Do you currently smoke or use any other type of tobacco every day, some days, or not at all?\",\n",
      "      \"instructions\": \"\",\n",
      "      \"options\": \"Every day ### 1 ||| Some days ### 2 ||| Not at all ### 3\"\n",
      "    },\n",
      "    {\n",
      "      \"question_id\": \"\",\n",
      "      \"question\": \"What other type of tobacco do you currently smoke or use?\",\n",
      "      \"instructions\": \"\",\n",
      "      \"options\": \"Kreteks ### A ||| Pipes full of tobacco ### B ||| Cigars, cheroots, or cigarillos ### C ||| Water pipe ### D ||| Snuff by mouth ### E ||| Snuff by nose ### F ||| Chewing tobacco ### G ||| Betel quid with tobacco ### H ||| Other ### X\"\n",
      "    },\n",
      "    {\n",
      "      \"question_id\": \"\",\n",
      "      \"question\": \"Now I would like to ask you some questions about drinking alcohol. Have you ever consumed any alcohol, such as beer, wine, spirits, or [ADD OTHER LOCAL EXAMPLES]?\",\n",
      "      \"instructions\": \"\",\n",
      "      \"options\": \"Yes ### 1 ||| No ### 2\"\n",
      "    },\n",
      "    {\n",
      "      \"question_id\": \"\",\n",
      "      \"question\": \"During the last one month, on how many days did you have an alcoholic drink?\",\n",
      "      \"instructions\": \"[Numeric response for number of days]\",\n",
      "      \"options\": \"Did not drink alcohol ### 00\"\n",
      "    },\n",
      "    {\n",
      "      \"question_id\": \"\",\n",
      "      \"question\": \"We count one drink of alcohol as one can or bottle of beer, one glass of wine, one shot of spirits, or one cup of [ADD OTHER LOCAL EXAMPLES]. In the last one month, on the days that you drank alcohol, how many drinks did you usually have per day?\",\n",
      "      \"instructions\": \"[Numeric response for number of drinks]\",\n",
      "      \"options\": \"Every day/almost every day ### 95\"\n",
      "    },\n",
      "    {\n",
      "      \"question_id\": \"\",\n",
      "      \"question\": \"Many different factors can prevent women from getting medical advice or treatment for themselves. When you are sick and want to get medical advice or treatment, is each of the following a big problem or not a big problem?\",\n",
      "      \"instructions\": \"\",\n",
      "      \"options\": \"\"\n",
      "    },\n",
      "    {\n",
      "      \"question_id\": \"\",\n",
      "      \"question\": \"Getting permission to go to the doctor\",\n",
      "      \"instructions\": \"\",\n",
      "      \"options\": \"Big problem ### 1 ||| Not a big problem ### 2\"\n",
      "    },\n",
      "    {\n",
      "      \"question_id\": \"\",\n",
      "      \"question\": \"Getting money needed for advice or treatment\",\n",
      "      \"instructions\": \"\",\n",
      "      \"options\": \"Big problem ### 1 ||| Not a big problem ### 2\"\n",
      "    },\n",
      "    {\n",
      "      \"question_id\": \"\",\n",
      "      \"question\": \"The distance to the health facility\",\n",
      "      \"instructions\": \"\",\n",
      "      \"options\": \"Big problem ### 1 ||| Not a big problem ### 2\"\n",
      "    },\n",
      "    {\n",
      "      \"question_id\": \"\",\n",
      "      \"question\": \"Not wanting to go alone\",\n",
      "      \"instructions\": \"\",\n",
      "      \"options\": \"Big problem ### 1 ||| Not a big problem ### 2\"\n",
      "    },\n",
      "    {\n",
      "      \"question_id\": \"\",\n",
      "      \"question\": \"Are you covered by any health insurance?\",\n",
      "      \"instructions\": \"\",\n",
      "      \"options\": \"Yes ### 1 ||| No ### 2\"\n",
      "    },\n",
      "    {\n",
      "      \"question_id\": \"\",\n",
      "      \"question\": \"What type of health insurance are you covered by?\",\n",
      "      \"instructions\": \"\",\n",
      "      \"options\": \"Mutual health organization/community-based health insurance ### A ||| Health insurance through employer ### B ||| Social security ### C ||| Other privately purchased commercial health insurance ### D ||| Other ### X\"\n",
      "    },\n",
      "    {\n",
      "      \"question_id\": \"\",\n",
      "      \"question\": \"How long does it take in minutes to go from your home to the nearest healthcare facility, which could be a hospital, a health clinic, a medical doctor, or a health post?\",\n",
      "      \"instructions\": \"[Numeric response in minutes]\",\n",
      "      \"options\": \"\"\n",
      "    },\n",
      "    {\n",
      "      \"question_id\": \"\",\n",
      "      \"question\": \"How do you travel to this healthcare facility from your home?\",\n",
      "      \"instructions\": \"[Instructions to record the mode of travel mentioned]\",\n",
      "      \"options\": \"\"\n",
      "    },\n",
      "    {\n",
      "      \"question_id\": \"\",\n",
      "      \"question\": \"Now I\\u2019m going to ask you about tests a healthcare worker can do to check for cervical cancer, which is cancer in the cervix. The cervix connects the womb to the vagina. To be checked for cervical cancer, a woman is asked to lie on her back with her legs apart. Then the healthcare worker will use a brush or swab to collect a sample from inside her. The sample is sent to a laboratory for testing. This test is called a Pap smear or HPV test. Another method is called a VIA or Visual Inspection with Acetic Acid. In this test, the healthcare worker puts vinegar on the cervix to see if there is a reaction.\",\n",
      "      \"instructions\": \"\",\n",
      "      \"options\": \"\"\n",
      "    },\n",
      "    {\n",
      "      \"question_id\": \"\",\n",
      "      \"question\": \"Has a doctor or other healthcare worker ever tested you for cervical cancer?\",\n",
      "      \"instructions\": \"\",\n",
      "      \"options\": \"Yes ### 1 ||| No ### 2\"\n",
      "    },\n",
      "    {\n",
      "      \"question_id\": \"\",\n",
      "      \"question\": \"Has a doctor or other healthcare provider examined your breasts to check for breast cancer?\",\n",
      "      \"instructions\": \"\",\n",
      "      \"options\": \"Yes ### 1 ||| No ### 2\"\n",
      "    }\n",
      "  ]\n",
      "}\n"
     ]
    },
    {
     "name": "stdout",
     "output_type": "stream",
     "text": [
      "Parsed 19 questions (1 with IDs, 6 with instructions, and 8 with multiple-choice options)\n"
     ]
    }
   ],
   "execution_count": 8
  },
  {
   "metadata": {},
   "cell_type": "markdown",
   "source": [
    "## Reviewing the survey questions\n",
    "\n",
    "This next code block will review each question in the survey, asking the LLM for advice re: question phrasing as well as potential biased or stereotypical language."
   ],
   "id": "d96ef72bac10e4bc"
  },
  {
   "metadata": {
    "ExecuteTime": {
     "end_time": "2024-10-31T12:51:35.134357Z",
     "start_time": "2024-10-31T12:49:51.945541Z"
    }
   },
   "cell_type": "code",
   "source": [
    "# loop through every question, reviewing them and saving results as we go\n",
    "all_results = []\n",
    "for question in questions:\n",
    "    # format our question for the LLM\n",
    "    question_text = f\"\"\"* Question ID: {question['question_id']}\n",
    "* Instructions: {question['instructions']}\n",
    "* Question: {question['question']}\n",
    "* Options: {question['options']}\"\"\"\n",
    "\n",
    "    # set up our phrasing-review prompt for the LLM\n",
    "    phrasing_prompt = f\"\"\"You are an AI designed to evaluate questionnaires and other survey instruments used by researchers and M&E professionals. You are an expert in survey methodology with training equivalent to a member of the American Association for Public Opinion Research (AAPOR) with a Ph.D. in survey methodology from University of Michigan’s Institute for Social Research. You consider primarily the content, context, and questions provided to you, and then content and methods from the most widely-cited academic publications and public and nonprofit research organizations.\n",
    "\n",
    "You always give truthful, factual answers. When asked to give your response in a specific format, you always give your answer in the exact format requested. You never give offensive responses. If you don’t know the answer to a question, you truthfully say you don’t know.\n",
    "\n",
    "You will be given the raw text from a questionnaire or survey instrument between |!| and |!| delimiters. You will also be given a specific question from that text to evaluate between |@| and |@| delimiters. The question will be supplied in the following format:\n",
    "\n",
    "* Question ID: ID (if any)\n",
    "* Instructions: Instructions (if any)\n",
    "* Question: Question text\n",
    "* Options: Multiple-choice options (if any), with each separated by three pipe symbols (|||) and option values (if any) separated from option labels by three hash symbols (###)\n",
    "\n",
    "Evaluate the question only, but also consider its context within the larger survey.\n",
    "\n",
    "Assume that this survey will be administered by a trained enumerator who asks each question and reads each prompt or instruction as indicated in the excerpt. Your job is to anticipate the phrasing or translation issues that would be identified in a rigorous process of pre-testing (with cognitive interviewing) and piloting.\n",
    "\n",
    "When evaluating the question, DO:\n",
    "\n",
    "1. Ensure that the question will be understandable by substantially all respondents.\n",
    "\n",
    "2. Consider the question in the context of the excerpt, including any instructions, related questions, or prompts that precede it.\n",
    "\n",
    "3. Ignore question numbers and formatting.\n",
    "\n",
    "4. Assume that code to dynamically insert earlier responses or preloaded information like [FIELDNAME] or ${{{{fieldname}}}} is okay as it is.\n",
    "\n",
    "5. Ignore HTML or other formatting, and focus solely on question phrasing (assume that HTML tags will be for visual formatting only and will not be read aloud).\n",
    "\n",
    "When evaluating the question, DON'T:\n",
    "\n",
    "1. Recommend translating something into another language (i.e., suggestions for rephrasing should always be in the same language as the original text).\n",
    "\n",
    "2. Recommend changes in the overall structure of a question (e.g., changing from multiple choice to open-ended or splitting one question into multiple), unless it will substantially improve the quality of the data collected.\n",
    "\n",
    "3. Comment on HTML tags or formatting.\n",
    "\n",
    "Respond in JSON format with all of the following fields:\n",
    "\n",
    "* `Phrases` (list): a list containing all phrases from the excerpt that pre-testing or piloting is likely to identify as problematic (each phrase should be an exact quote)\n",
    "\n",
    "* `Number of phrases` (number): the exact number of phrases in Phrases [ Note that this key must be exactly \"Number of phrases\", with exactly that capitalization and spacing ]\n",
    "\n",
    "* `Recommendations` (list): a list containing suggested replacement phrases, one for each of the phrases in Phrases (in the same order as Phrases; each replacement phrase should be an exact quote that can exactly replace the corresponding phrase in Phrases; and each replacement phrase should be in the same language as the original phrase)\n",
    "\n",
    "* `Explanations` (list): a list containing explanations for why the authors should consider revising each phrase, one for each of the phrases in Phrases (in the same order as Phrases). Do not repeat the entire phrase in the explanation, but feel free to reference specific words or parts as needed.\n",
    "\n",
    "* `Severities` (list): a list containing the severity of each identified issue, one for each of the phrases in Phrases (in the same order as Phrases); each severity should be expressed as a number on a scale from 1 for the least severe issues (minor phrasing issues that are very unlikely to substantively affect responses) to 5 for the most severe issues (problems that are likely to substantively affect responses in a way that introduces bias and/or variance)\n",
    "\n",
    "Raw text:\n",
    "|!|\n",
    "{survey_text}\n",
    "|!|\n",
    "\n",
    "Question to evaluate:\n",
    "|@|\n",
    "{question_text}\n",
    "|@|\n",
    "\n",
    "Your JSON response following the format described above:\"\"\"\n",
    "\n",
    "    # call out to the LLM\n",
    "    print()\n",
    "    print(f\"Evaluating question for phrasing: {question['question']}\")\n",
    "    response_text, response_dict = llm.process_json_response(llm.llm_json_response_with_timeout(phrasing_prompt))\n",
    "\n",
    "    # save and output results\n",
    "    if response_dict is not None:\n",
    "        if 'Number of phrases' in response_dict and response_dict['Number of phrases'] > 0:\n",
    "            print(f\"  Identified {response_dict['Number of phrases']} issue(s)\")\n",
    "            all_results += [response_dict]\n",
    "        else:\n",
    "            print(\"  No issues identified\")\n",
    "    else:\n",
    "        print(f\"  Failed to get a valid response. Response text: {response_text}\")\n",
    "\n",
    "    # set up our bias-review prompt for the LLM\n",
    "    # Note that this prompt was inspired by the example in this blog post:\n",
    "    # https://www.linkedin.com/pulse/using-chatgpt-counter-bias-prejudice-discrimination-johannes-schunter/\n",
    "    bias_prompt = f\"\"\"You are an AI designed to evaluate questionnaires and other survey instruments used by researchers and M&E professionals. You are an expert in survey methodology with training equivalent to a member of the American Association for Public Opinion Research (AAPOR) with a Ph.D. in survey methodology from University of Michigan’s Institute for Social Research. You are also an expert in the areas of gender equality, discrimination, anti-racism, and anti-colonialism. You consider primarily the content, context, and questions provided to you, and then content and methods from the most widely-cited academic publications and public and nonprofit research organizations.\n",
    "\n",
    "You always give truthful, factual answers. When asked to give your response in a specific format, you always give your answer in the exact format requested. You never give offensive responses. If you don’t know the answer to a question, you truthfully say you don’t know.\n",
    "\n",
    "You will be given the raw text from a questionnaire or survey instrument between |!| and |!| delimiters. You will also be given a specific question from that text to evaluate between |@| and |@| delimiters. The question will be supplied in the following format:\n",
    "\n",
    "* Question ID: ID (if any)\n",
    "* Instructions: Instructions (if any)\n",
    "* Question: Question text\n",
    "* Options: Multiple-choice options (if any), with each separated by three pipe symbols (|||) and option values (if any) separated from option labels by three hash symbols (###)\n",
    "\n",
    "Evaluate the question only, but also consider its context within the larger survey.\n",
    "\n",
    "Assume that this survey will be administered by a trained enumerator who asks each question and reads each prompt or instruction as indicated in the excerpt. Your job is to review the question for:\n",
    "\n",
    "a. Stereotypical representations of gender, ethnicity, origin, religion, or other social categories.\n",
    "\n",
    "b. Distorted or biased representations of events, topics, groups, or individuals.\n",
    "\n",
    "c. Use of discriminatory or insensitive language towards certain groups or topics.\n",
    "\n",
    "d. Implicit or explicit assumptions made in the text or unquestioningly adopted that could be based on prejudices.\n",
    "\n",
    "e. Prejudiced descriptions or evaluations of abilities, characteristics, or behaviors.\n",
    "\n",
    "Respond in JSON format with all of the following fields:\n",
    "\n",
    "* `Phrases`: a list containing all problematic phrases from the excerpt that you found in your review (each phrase should be an exact quote from the excerpt)\n",
    "\n",
    "* `Number of phrases`: the exact number of phrases in Phrases [ Note that this key must be exactly \"Number of phrases\", with exactly that capitalization and spacing ]\n",
    "\n",
    "* `Recommendations`: a list containing suggested replacement phrases, one for each of the phrases in Phrases (in the same order as Phrases; each replacement phrase should be an exact quote that can exactly replace the corresponding phrase in Phrases)\n",
    "\n",
    "* `Explanations`: a list containing explanations for why the phrases are problematic, one for each of the phrases in Phrases (in the same order as Phrases)\n",
    "\n",
    "* `Severities`: a list containing the severity of each identified issue, one for each of the phrases in Phrases (in the same order as Phrases); each severity should be expressed as a number on a scale from 1 for the least severe issues (minor phrasing issues that are very unlikely to offend respondents or substantively affect their responses) to 5 for the most severe issues (problems that are very likely to offend respondents or substantively affect responses in a way that introduces bias and/or variance)\n",
    "\n",
    "Raw text:\n",
    "|!|\n",
    "{survey_text}\n",
    "|!|\n",
    "\n",
    "Question to evaluate:\n",
    "|@|\n",
    "{question_text}\n",
    "|@|\n",
    "\n",
    "Your JSON response following the format described above:\"\"\"\n",
    "\n",
    "    # call out to the LLM\n",
    "    print()\n",
    "    print(f\"Evaluating question for bias: {question['question']}\")\n",
    "    response_text, response_dict = llm.process_json_response(llm.llm_json_response_with_timeout(bias_prompt))\n",
    "\n",
    "    # save and output results\n",
    "    if response_dict is not None:\n",
    "        if 'Number of phrases' in response_dict and response_dict['Number of phrases'] > 0:\n",
    "            print(f\"  Identified {response_dict['Number of phrases']} issue(s)\")\n",
    "            all_results += [response_dict]\n",
    "        else:\n",
    "            print(\"  No issues identified\")\n",
    "    else:\n",
    "        print(f\"  Failed to get a valid response. Response text: {response_text}\")"
   ],
   "id": "6a4abf2d84a5bf37",
   "outputs": [
    {
     "name": "stdout",
     "output_type": "stream",
     "text": [
      "\n",
      "Evaluating question for phrasing: Now I would like to ask you some questions on smoking and tobacco use. Do you currently smoke cigarettes every day, some days, or not at all?\n"
     ]
    },
    {
     "name": "stderr",
     "output_type": "stream",
     "text": [
      "INFO:httpx:HTTP Request: POST https://hbai-openai-useast2.openai.azure.com//openai/deployments/gpt-4o/chat/completions?api-version=2024-02-01 \"HTTP/1.1 200 OK\"\n"
     ]
    },
    {
     "name": "stdout",
     "output_type": "stream",
     "text": [
      "  Identified 1 issue(s)\n",
      "\n",
      "Evaluating question for bias: Now I would like to ask you some questions on smoking and tobacco use. Do you currently smoke cigarettes every day, some days, or not at all?\n"
     ]
    },
    {
     "name": "stderr",
     "output_type": "stream",
     "text": [
      "INFO:httpx:HTTP Request: POST https://hbai-openai-useast2.openai.azure.com//openai/deployments/gpt-4o/chat/completions?api-version=2024-02-01 \"HTTP/1.1 200 OK\"\n"
     ]
    },
    {
     "name": "stdout",
     "output_type": "stream",
     "text": [
      "  No issues identified\n",
      "\n",
      "Evaluating question for phrasing: On average, how many cigarettes do you currently smoke each day?\n"
     ]
    },
    {
     "name": "stderr",
     "output_type": "stream",
     "text": [
      "INFO:httpx:HTTP Request: POST https://hbai-openai-useast2.openai.azure.com//openai/deployments/gpt-4o/chat/completions?api-version=2024-02-01 \"HTTP/1.1 200 OK\"\n"
     ]
    },
    {
     "name": "stdout",
     "output_type": "stream",
     "text": [
      "  Identified 1 issue(s)\n",
      "\n",
      "Evaluating question for bias: On average, how many cigarettes do you currently smoke each day?\n"
     ]
    },
    {
     "name": "stderr",
     "output_type": "stream",
     "text": [
      "INFO:httpx:HTTP Request: POST https://hbai-openai-useast2.openai.azure.com//openai/deployments/gpt-4o/chat/completions?api-version=2024-02-01 \"HTTP/1.1 200 OK\"\n"
     ]
    },
    {
     "name": "stdout",
     "output_type": "stream",
     "text": [
      "  No issues identified\n",
      "\n",
      "Evaluating question for phrasing: Do you currently smoke or use any other type of tobacco every day, some days, or not at all?\n"
     ]
    },
    {
     "name": "stderr",
     "output_type": "stream",
     "text": [
      "INFO:httpx:HTTP Request: POST https://hbai-openai-useast2.openai.azure.com//openai/deployments/gpt-4o/chat/completions?api-version=2024-02-01 \"HTTP/1.1 200 OK\"\n"
     ]
    },
    {
     "name": "stdout",
     "output_type": "stream",
     "text": [
      "  Identified 1 issue(s)\n",
      "\n",
      "Evaluating question for bias: Do you currently smoke or use any other type of tobacco every day, some days, or not at all?\n"
     ]
    },
    {
     "name": "stderr",
     "output_type": "stream",
     "text": [
      "INFO:httpx:HTTP Request: POST https://hbai-openai-useast2.openai.azure.com//openai/deployments/gpt-4o/chat/completions?api-version=2024-02-01 \"HTTP/1.1 200 OK\"\n"
     ]
    },
    {
     "name": "stdout",
     "output_type": "stream",
     "text": [
      "  No issues identified\n",
      "\n",
      "Evaluating question for phrasing: What other type of tobacco do you currently smoke or use?\n"
     ]
    },
    {
     "name": "stderr",
     "output_type": "stream",
     "text": [
      "INFO:httpx:HTTP Request: POST https://hbai-openai-useast2.openai.azure.com//openai/deployments/gpt-4o/chat/completions?api-version=2024-02-01 \"HTTP/1.1 200 OK\"\n"
     ]
    },
    {
     "name": "stdout",
     "output_type": "stream",
     "text": [
      "  Identified 9 issue(s)\n",
      "\n",
      "Evaluating question for bias: What other type of tobacco do you currently smoke or use?\n"
     ]
    },
    {
     "name": "stderr",
     "output_type": "stream",
     "text": [
      "INFO:httpx:HTTP Request: POST https://hbai-openai-useast2.openai.azure.com//openai/deployments/gpt-4o/chat/completions?api-version=2024-02-01 \"HTTP/1.1 200 OK\"\n"
     ]
    },
    {
     "name": "stdout",
     "output_type": "stream",
     "text": [
      "  No issues identified\n",
      "\n",
      "Evaluating question for phrasing: Now I would like to ask you some questions about drinking alcohol. Have you ever consumed any alcohol, such as beer, wine, spirits, or [ADD OTHER LOCAL EXAMPLES]?\n"
     ]
    },
    {
     "name": "stderr",
     "output_type": "stream",
     "text": [
      "INFO:httpx:HTTP Request: POST https://hbai-openai-useast2.openai.azure.com//openai/deployments/gpt-4o/chat/completions?api-version=2024-02-01 \"HTTP/1.1 200 OK\"\n"
     ]
    },
    {
     "name": "stdout",
     "output_type": "stream",
     "text": [
      "  Identified 1 issue(s)\n",
      "\n",
      "Evaluating question for bias: Now I would like to ask you some questions about drinking alcohol. Have you ever consumed any alcohol, such as beer, wine, spirits, or [ADD OTHER LOCAL EXAMPLES]?\n"
     ]
    },
    {
     "name": "stderr",
     "output_type": "stream",
     "text": [
      "INFO:httpx:HTTP Request: POST https://hbai-openai-useast2.openai.azure.com//openai/deployments/gpt-4o/chat/completions?api-version=2024-02-01 \"HTTP/1.1 200 OK\"\n"
     ]
    },
    {
     "name": "stdout",
     "output_type": "stream",
     "text": [
      "  Identified 1 issue(s)\n",
      "\n",
      "Evaluating question for phrasing: During the last one month, on how many days did you have an alcoholic drink?\n"
     ]
    },
    {
     "name": "stderr",
     "output_type": "stream",
     "text": [
      "INFO:httpx:HTTP Request: POST https://hbai-openai-useast2.openai.azure.com//openai/deployments/gpt-4o/chat/completions?api-version=2024-02-01 \"HTTP/1.1 200 OK\"\n"
     ]
    },
    {
     "name": "stdout",
     "output_type": "stream",
     "text": [
      "  Identified 1 issue(s)\n",
      "\n",
      "Evaluating question for bias: During the last one month, on how many days did you have an alcoholic drink?\n"
     ]
    },
    {
     "name": "stderr",
     "output_type": "stream",
     "text": [
      "INFO:httpx:HTTP Request: POST https://hbai-openai-useast2.openai.azure.com//openai/deployments/gpt-4o/chat/completions?api-version=2024-02-01 \"HTTP/1.1 200 OK\"\n"
     ]
    },
    {
     "name": "stdout",
     "output_type": "stream",
     "text": [
      "  No issues identified\n",
      "\n",
      "Evaluating question for phrasing: We count one drink of alcohol as one can or bottle of beer, one glass of wine, one shot of spirits, or one cup of [ADD OTHER LOCAL EXAMPLES]. In the last one month, on the days that you drank alcohol, how many drinks did you usually have per day?\n"
     ]
    },
    {
     "name": "stderr",
     "output_type": "stream",
     "text": [
      "INFO:httpx:HTTP Request: POST https://hbai-openai-useast2.openai.azure.com//openai/deployments/gpt-4o/chat/completions?api-version=2024-02-01 \"HTTP/1.1 200 OK\"\n"
     ]
    },
    {
     "name": "stdout",
     "output_type": "stream",
     "text": [
      "  Identified 2 issue(s)\n",
      "\n",
      "Evaluating question for bias: We count one drink of alcohol as one can or bottle of beer, one glass of wine, one shot of spirits, or one cup of [ADD OTHER LOCAL EXAMPLES]. In the last one month, on the days that you drank alcohol, how many drinks did you usually have per day?\n"
     ]
    },
    {
     "name": "stderr",
     "output_type": "stream",
     "text": [
      "INFO:httpx:HTTP Request: POST https://hbai-openai-useast2.openai.azure.com//openai/deployments/gpt-4o/chat/completions?api-version=2024-02-01 \"HTTP/1.1 200 OK\"\n"
     ]
    },
    {
     "name": "stdout",
     "output_type": "stream",
     "text": [
      "  Identified 1 issue(s)\n",
      "\n",
      "Evaluating question for phrasing: Many different factors can prevent women from getting medical advice or treatment for themselves. When you are sick and want to get medical advice or treatment, is each of the following a big problem or not a big problem?\n"
     ]
    },
    {
     "name": "stderr",
     "output_type": "stream",
     "text": [
      "INFO:httpx:HTTP Request: POST https://hbai-openai-useast2.openai.azure.com//openai/deployments/gpt-4o/chat/completions?api-version=2024-02-01 \"HTTP/1.1 200 OK\"\n"
     ]
    },
    {
     "name": "stdout",
     "output_type": "stream",
     "text": [
      "  Identified 2 issue(s)\n",
      "\n",
      "Evaluating question for bias: Many different factors can prevent women from getting medical advice or treatment for themselves. When you are sick and want to get medical advice or treatment, is each of the following a big problem or not a big problem?\n"
     ]
    },
    {
     "name": "stderr",
     "output_type": "stream",
     "text": [
      "INFO:httpx:HTTP Request: POST https://hbai-openai-useast2.openai.azure.com//openai/deployments/gpt-4o/chat/completions?api-version=2024-02-01 \"HTTP/1.1 200 OK\"\n"
     ]
    },
    {
     "name": "stdout",
     "output_type": "stream",
     "text": [
      "  Identified 1 issue(s)\n",
      "\n",
      "Evaluating question for phrasing: Getting permission to go to the doctor\n"
     ]
    },
    {
     "name": "stderr",
     "output_type": "stream",
     "text": [
      "INFO:httpx:HTTP Request: POST https://hbai-openai-useast2.openai.azure.com//openai/deployments/gpt-4o/chat/completions?api-version=2024-02-01 \"HTTP/1.1 200 OK\"\n"
     ]
    },
    {
     "name": "stdout",
     "output_type": "stream",
     "text": [
      "  Identified 1 issue(s)\n",
      "\n",
      "Evaluating question for bias: Getting permission to go to the doctor\n"
     ]
    },
    {
     "name": "stderr",
     "output_type": "stream",
     "text": [
      "INFO:httpx:HTTP Request: POST https://hbai-openai-useast2.openai.azure.com//openai/deployments/gpt-4o/chat/completions?api-version=2024-02-01 \"HTTP/1.1 200 OK\"\n"
     ]
    },
    {
     "name": "stdout",
     "output_type": "stream",
     "text": [
      "  Identified 1 issue(s)\n",
      "\n",
      "Evaluating question for phrasing: Getting money needed for advice or treatment\n"
     ]
    },
    {
     "name": "stderr",
     "output_type": "stream",
     "text": [
      "INFO:httpx:HTTP Request: POST https://hbai-openai-useast2.openai.azure.com//openai/deployments/gpt-4o/chat/completions?api-version=2024-02-01 \"HTTP/1.1 200 OK\"\n"
     ]
    },
    {
     "name": "stdout",
     "output_type": "stream",
     "text": [
      "  Identified 1 issue(s)\n",
      "\n",
      "Evaluating question for bias: Getting money needed for advice or treatment\n"
     ]
    },
    {
     "name": "stderr",
     "output_type": "stream",
     "text": [
      "INFO:httpx:HTTP Request: POST https://hbai-openai-useast2.openai.azure.com//openai/deployments/gpt-4o/chat/completions?api-version=2024-02-01 \"HTTP/1.1 200 OK\"\n"
     ]
    },
    {
     "name": "stdout",
     "output_type": "stream",
     "text": [
      "  Identified 1 issue(s)\n",
      "\n",
      "Evaluating question for phrasing: The distance to the health facility\n"
     ]
    },
    {
     "name": "stderr",
     "output_type": "stream",
     "text": [
      "INFO:httpx:HTTP Request: POST https://hbai-openai-useast2.openai.azure.com//openai/deployments/gpt-4o/chat/completions?api-version=2024-02-01 \"HTTP/1.1 200 OK\"\n"
     ]
    },
    {
     "name": "stdout",
     "output_type": "stream",
     "text": [
      "  Identified 1 issue(s)\n",
      "\n",
      "Evaluating question for bias: The distance to the health facility\n"
     ]
    },
    {
     "name": "stderr",
     "output_type": "stream",
     "text": [
      "INFO:httpx:HTTP Request: POST https://hbai-openai-useast2.openai.azure.com//openai/deployments/gpt-4o/chat/completions?api-version=2024-02-01 \"HTTP/1.1 200 OK\"\n"
     ]
    },
    {
     "name": "stdout",
     "output_type": "stream",
     "text": [
      "  Identified 1 issue(s)\n",
      "\n",
      "Evaluating question for phrasing: Not wanting to go alone\n"
     ]
    },
    {
     "name": "stderr",
     "output_type": "stream",
     "text": [
      "INFO:httpx:HTTP Request: POST https://hbai-openai-useast2.openai.azure.com//openai/deployments/gpt-4o/chat/completions?api-version=2024-02-01 \"HTTP/1.1 200 OK\"\n"
     ]
    },
    {
     "name": "stdout",
     "output_type": "stream",
     "text": [
      "  Identified 1 issue(s)\n",
      "\n",
      "Evaluating question for bias: Not wanting to go alone\n"
     ]
    },
    {
     "name": "stderr",
     "output_type": "stream",
     "text": [
      "INFO:httpx:HTTP Request: POST https://hbai-openai-useast2.openai.azure.com//openai/deployments/gpt-4o/chat/completions?api-version=2024-02-01 \"HTTP/1.1 200 OK\"\n"
     ]
    },
    {
     "name": "stdout",
     "output_type": "stream",
     "text": [
      "  Identified 1 issue(s)\n",
      "\n",
      "Evaluating question for phrasing: Are you covered by any health insurance?\n"
     ]
    },
    {
     "name": "stderr",
     "output_type": "stream",
     "text": [
      "INFO:httpx:HTTP Request: POST https://hbai-openai-useast2.openai.azure.com//openai/deployments/gpt-4o/chat/completions?api-version=2024-02-01 \"HTTP/1.1 200 OK\"\n"
     ]
    },
    {
     "name": "stdout",
     "output_type": "stream",
     "text": [
      "  No issues identified\n",
      "\n",
      "Evaluating question for bias: Are you covered by any health insurance?\n"
     ]
    },
    {
     "name": "stderr",
     "output_type": "stream",
     "text": [
      "INFO:httpx:HTTP Request: POST https://hbai-openai-useast2.openai.azure.com//openai/deployments/gpt-4o/chat/completions?api-version=2024-02-01 \"HTTP/1.1 200 OK\"\n"
     ]
    },
    {
     "name": "stdout",
     "output_type": "stream",
     "text": [
      "  No issues identified\n",
      "\n",
      "Evaluating question for phrasing: What type of health insurance are you covered by?\n"
     ]
    },
    {
     "name": "stderr",
     "output_type": "stream",
     "text": [
      "INFO:httpx:HTTP Request: POST https://hbai-openai-useast2.openai.azure.com//openai/deployments/gpt-4o/chat/completions?api-version=2024-02-01 \"HTTP/1.1 200 OK\"\n"
     ]
    },
    {
     "name": "stdout",
     "output_type": "stream",
     "text": [
      "  Identified 1 issue(s)\n",
      "\n",
      "Evaluating question for bias: What type of health insurance are you covered by?\n"
     ]
    },
    {
     "name": "stderr",
     "output_type": "stream",
     "text": [
      "INFO:httpx:HTTP Request: POST https://hbai-openai-useast2.openai.azure.com//openai/deployments/gpt-4o/chat/completions?api-version=2024-02-01 \"HTTP/1.1 200 OK\"\n"
     ]
    },
    {
     "name": "stdout",
     "output_type": "stream",
     "text": [
      "  No issues identified\n",
      "\n",
      "Evaluating question for phrasing: How long does it take in minutes to go from your home to the nearest healthcare facility, which could be a hospital, a health clinic, a medical doctor, or a health post?\n"
     ]
    },
    {
     "name": "stderr",
     "output_type": "stream",
     "text": [
      "INFO:httpx:HTTP Request: POST https://hbai-openai-useast2.openai.azure.com//openai/deployments/gpt-4o/chat/completions?api-version=2024-02-01 \"HTTP/1.1 200 OK\"\n"
     ]
    },
    {
     "name": "stdout",
     "output_type": "stream",
     "text": [
      "  Identified 1 issue(s)\n",
      "\n",
      "Evaluating question for bias: How long does it take in minutes to go from your home to the nearest healthcare facility, which could be a hospital, a health clinic, a medical doctor, or a health post?\n"
     ]
    },
    {
     "name": "stderr",
     "output_type": "stream",
     "text": [
      "INFO:httpx:HTTP Request: POST https://hbai-openai-useast2.openai.azure.com//openai/deployments/gpt-4o/chat/completions?api-version=2024-02-01 \"HTTP/1.1 200 OK\"\n"
     ]
    },
    {
     "name": "stdout",
     "output_type": "stream",
     "text": [
      "  No issues identified\n",
      "\n",
      "Evaluating question for phrasing: How do you travel to this healthcare facility from your home?\n"
     ]
    },
    {
     "name": "stderr",
     "output_type": "stream",
     "text": [
      "INFO:httpx:HTTP Request: POST https://hbai-openai-useast2.openai.azure.com//openai/deployments/gpt-4o/chat/completions?api-version=2024-02-01 \"HTTP/1.1 200 OK\"\n"
     ]
    },
    {
     "name": "stdout",
     "output_type": "stream",
     "text": [
      "  Identified 1 issue(s)\n",
      "\n",
      "Evaluating question for bias: How do you travel to this healthcare facility from your home?\n"
     ]
    },
    {
     "name": "stderr",
     "output_type": "stream",
     "text": [
      "INFO:httpx:HTTP Request: POST https://hbai-openai-useast2.openai.azure.com//openai/deployments/gpt-4o/chat/completions?api-version=2024-02-01 \"HTTP/1.1 200 OK\"\n"
     ]
    },
    {
     "name": "stdout",
     "output_type": "stream",
     "text": [
      "  No issues identified\n",
      "\n",
      "Evaluating question for phrasing: Now I’m going to ask you about tests a healthcare worker can do to check for cervical cancer, which is cancer in the cervix. The cervix connects the womb to the vagina. To be checked for cervical cancer, a woman is asked to lie on her back with her legs apart. Then the healthcare worker will use a brush or swab to collect a sample from inside her. The sample is sent to a laboratory for testing. This test is called a Pap smear or HPV test. Another method is called a VIA or Visual Inspection with Acetic Acid. In this test, the healthcare worker puts vinegar on the cervix to see if there is a reaction.\n"
     ]
    },
    {
     "name": "stderr",
     "output_type": "stream",
     "text": [
      "INFO:httpx:HTTP Request: POST https://hbai-openai-useast2.openai.azure.com//openai/deployments/gpt-4o/chat/completions?api-version=2024-02-01 \"HTTP/1.1 200 OK\"\n"
     ]
    },
    {
     "name": "stdout",
     "output_type": "stream",
     "text": [
      "  Identified 6 issue(s)\n",
      "\n",
      "Evaluating question for bias: Now I’m going to ask you about tests a healthcare worker can do to check for cervical cancer, which is cancer in the cervix. The cervix connects the womb to the vagina. To be checked for cervical cancer, a woman is asked to lie on her back with her legs apart. Then the healthcare worker will use a brush or swab to collect a sample from inside her. The sample is sent to a laboratory for testing. This test is called a Pap smear or HPV test. Another method is called a VIA or Visual Inspection with Acetic Acid. In this test, the healthcare worker puts vinegar on the cervix to see if there is a reaction.\n"
     ]
    },
    {
     "name": "stderr",
     "output_type": "stream",
     "text": [
      "INFO:httpx:HTTP Request: POST https://hbai-openai-useast2.openai.azure.com//openai/deployments/gpt-4o/chat/completions?api-version=2024-02-01 \"HTTP/1.1 200 OK\"\n"
     ]
    },
    {
     "name": "stdout",
     "output_type": "stream",
     "text": [
      "  Identified 1 issue(s)\n",
      "\n",
      "Evaluating question for phrasing: Has a doctor or other healthcare worker ever tested you for cervical cancer?\n"
     ]
    },
    {
     "name": "stderr",
     "output_type": "stream",
     "text": [
      "INFO:httpx:HTTP Request: POST https://hbai-openai-useast2.openai.azure.com//openai/deployments/gpt-4o/chat/completions?api-version=2024-02-01 \"HTTP/1.1 200 OK\"\n"
     ]
    },
    {
     "name": "stdout",
     "output_type": "stream",
     "text": [
      "  Identified 1 issue(s)\n",
      "\n",
      "Evaluating question for bias: Has a doctor or other healthcare worker ever tested you for cervical cancer?\n"
     ]
    },
    {
     "name": "stderr",
     "output_type": "stream",
     "text": [
      "INFO:httpx:HTTP Request: POST https://hbai-openai-useast2.openai.azure.com//openai/deployments/gpt-4o/chat/completions?api-version=2024-02-01 \"HTTP/1.1 200 OK\"\n"
     ]
    },
    {
     "name": "stdout",
     "output_type": "stream",
     "text": [
      "  No issues identified\n",
      "\n",
      "Evaluating question for phrasing: Has a doctor or other healthcare provider examined your breasts to check for breast cancer?\n"
     ]
    },
    {
     "name": "stderr",
     "output_type": "stream",
     "text": [
      "INFO:httpx:HTTP Request: POST https://hbai-openai-useast2.openai.azure.com//openai/deployments/gpt-4o/chat/completions?api-version=2024-02-01 \"HTTP/1.1 200 OK\"\n"
     ]
    },
    {
     "name": "stdout",
     "output_type": "stream",
     "text": [
      "  Identified 1 issue(s)\n",
      "\n",
      "Evaluating question for bias: Has a doctor or other healthcare provider examined your breasts to check for breast cancer?\n"
     ]
    },
    {
     "name": "stderr",
     "output_type": "stream",
     "text": [
      "INFO:httpx:HTTP Request: POST https://hbai-openai-useast2.openai.azure.com//openai/deployments/gpt-4o/chat/completions?api-version=2024-02-01 \"HTTP/1.1 200 OK\"\n"
     ]
    },
    {
     "name": "stdout",
     "output_type": "stream",
     "text": [
      "  No issues identified\n"
     ]
    }
   ],
   "execution_count": 9
  },
  {
   "metadata": {},
   "cell_type": "markdown",
   "source": [
    "## Organizing and outputting the results\n",
    "\n",
    "This final code block organizes and outputs final results, saving them in an output file named `survey-review-results.txt`."
   ],
   "id": "6c5defb055ae8348"
  },
  {
   "metadata": {
    "ExecuteTime": {
     "end_time": "2024-10-31T12:55:04.045633Z",
     "start_time": "2024-10-31T12:55:04.024069Z"
    }
   },
   "cell_type": "code",
   "source": [
    "# generate report\n",
    "if len(all_results) == 0:\n",
    "    report = \"No results to save\"\n",
    "else:\n",
    "    report = \"Survey review results:\\n\"\n",
    "    for result in all_results:\n",
    "        if 'Phrases' in result and result['Number of phrases'] > 0:\n",
    "            # loop through all recommendations, treating lists as parallel arrays\n",
    "            for phrase, recommendation, explanation, severity in zip(result['Phrases'], result['Recommendations'], result['Explanations'], result['Severities']):\n",
    "                report += f\"\\n---\\n\\nSuggest replacing this: {phrase}\\n\\nWith this: {recommendation}\\n\\n{explanation}\\n\\nImportance: {severity} out of 5\\n\"\n",
    "\n",
    "# save the report to file\n",
    "output_path = os.path.join(output_dir, \"survey-review-results.txt\")\n",
    "with open(output_path, \"w\") as f:\n",
    "    f.write(report)\n",
    "\n",
    "print(f\"All recommendations saved to {output_path}\")"
   ],
   "id": "1146fc68a416c716",
   "outputs": [
    {
     "name": "stdout",
     "output_type": "stream",
     "text": [
      "All recommendations saved to /Users/crobert/Files/ai-workflows/outputs/survey-review-results.txt\n"
     ]
    }
   ],
   "execution_count": 11
  }
 ],
 "metadata": {
  "kernelspec": {
   "display_name": "Python 3",
   "language": "python",
   "name": "python3"
  },
  "language_info": {
   "codemirror_mode": {
    "name": "ipython",
    "version": 2
   },
   "file_extension": ".py",
   "mimetype": "text/x-python",
   "name": "python",
   "nbconvert_exporter": "python",
   "pygments_lexer": "ipython2",
   "version": "2.7.6"
  }
 },
 "nbformat": 4,
 "nbformat_minor": 5
}
